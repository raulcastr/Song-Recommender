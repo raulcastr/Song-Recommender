{
 "cells": [
  {
   "cell_type": "code",
   "execution_count": 54,
   "metadata": {},
   "outputs": [],
   "source": [
    "from bs4 import BeautifulSoup\n",
    "import pandas as pd\n",
    "import numpy as np\n",
    "import requests\n",
    "import pickle\n",
    "from sklearn.preprocessing import StandardScaler\n"
   ]
  },
  {
   "cell_type": "code",
   "execution_count": 9,
   "metadata": {},
   "outputs": [
    {
     "data": {
      "text/plain": [
       "<Response [200]>"
      ]
     },
     "execution_count": 9,
     "metadata": {},
     "output_type": "execute_result"
    }
   ],
   "source": [
    "# 2. find url and store it in a variable\n",
    "url = \"https://www.billboard.com/charts/hot-100\"\n",
    "# 3. download html with a get request\n",
    "response = requests.get(url)\n",
    "# 200 status code means OK!\n",
    "response"
   ]
  },
  {
   "cell_type": "code",
   "execution_count": 10,
   "metadata": {},
   "outputs": [],
   "source": [
    "#Spotify\n",
    "import spotipy \n",
    "from spotipy.oauth2 import SpotifyClientCredentials\n",
    "\n",
    "#Initialize SpotiPy with user credentias\n",
    "spotify = spotipy.Spotify(client_credentials_manager=SpotifyClientCredentials(\n",
    "    client_id='82c7549d6f7e4453871ce606e4752b70',\n",
    "    client_secret='785b5199900e4ea9a1fa042790cd2ae4'\n",
    "    ))"
   ]
  },
  {
   "cell_type": "code",
   "execution_count": 11,
   "metadata": {},
   "outputs": [],
   "source": [
    "hot100= BeautifulSoup (response.content,\"html.parser\")"
   ]
  },
  {
   "cell_type": "code",
   "execution_count": 12,
   "metadata": {},
   "outputs": [],
   "source": [
    "#Own made functions\n",
    "def read_text(select,attribute=0):\n",
    "    text=[]\n",
    "    for tag in select:\n",
    "        if attribute==0:\n",
    "            text.append(tag.get_text())\n",
    "        else:\n",
    "            text.append(tag[attribute])\n",
    "    return text\n",
    "\n",
    "                    \n"
   ]
  },
  {
   "cell_type": "markdown",
   "metadata": {},
   "source": [
    "### Project: Scrape https://www.billboard.com/charts/hot-100 and get a dataframe with the name of the songs, the artists (and, possibly, more info).\n"
   ]
  },
  {
   "cell_type": "code",
   "execution_count": 13,
   "metadata": {},
   "outputs": [],
   "source": [
    "title=read_text(hot100.select(\"span.chart-element__information__song.text--truncate.color--primary\"))"
   ]
  },
  {
   "cell_type": "code",
   "execution_count": 14,
   "metadata": {},
   "outputs": [],
   "source": [
    "artists=read_text(hot100.select(\"span.chart-element__information__artist.text--truncate.color--secondary\"))"
   ]
  },
  {
   "cell_type": "code",
   "execution_count": 15,
   "metadata": {},
   "outputs": [],
   "source": [
    "last_week=read_text(hot100.select(\"span.chart-element__meta.text--center.color--secondary.text--last\"))"
   ]
  },
  {
   "cell_type": "code",
   "execution_count": 16,
   "metadata": {},
   "outputs": [],
   "source": [
    "peak_rank=read_text(hot100.select(\"span.chart-element__information__delta__text.text--peak\"))"
   ]
  },
  {
   "cell_type": "code",
   "execution_count": 17,
   "metadata": {},
   "outputs": [],
   "source": [
    "weeks_on=read_text(hot100.select(\"span.chart-element__information__delta__text.text--week\"))"
   ]
  },
  {
   "cell_type": "code",
   "execution_count": 18,
   "metadata": {},
   "outputs": [],
   "source": [
    "billboard_df=pd.DataFrame({\"Song title\":title,\n",
    "                           \"Artists involved\":artists,\n",
    "                           \"Rank Last Week\":last_week,\n",
    "                           \"Peak Rank\": peak_rank,\n",
    "                           \"Weeks on\": weeks_on \n",
    "                          })"
   ]
  },
  {
   "cell_type": "code",
   "execution_count": 19,
   "metadata": {},
   "outputs": [
    {
     "data": {
      "text/html": [
       "<div>\n",
       "<style scoped>\n",
       "    .dataframe tbody tr th:only-of-type {\n",
       "        vertical-align: middle;\n",
       "    }\n",
       "\n",
       "    .dataframe tbody tr th {\n",
       "        vertical-align: top;\n",
       "    }\n",
       "\n",
       "    .dataframe thead th {\n",
       "        text-align: right;\n",
       "    }\n",
       "</style>\n",
       "<table border=\"1\" class=\"dataframe\">\n",
       "  <thead>\n",
       "    <tr style=\"text-align: right;\">\n",
       "      <th></th>\n",
       "      <th>Song title</th>\n",
       "      <th>Artists involved</th>\n",
       "      <th>Rank Last Week</th>\n",
       "      <th>Peak Rank</th>\n",
       "      <th>Weeks on</th>\n",
       "    </tr>\n",
       "  </thead>\n",
       "  <tbody>\n",
       "    <tr>\n",
       "      <th>0</th>\n",
       "      <td>Positions</td>\n",
       "      <td>Ariana Grande</td>\n",
       "      <td>-</td>\n",
       "      <td>1 Peak Rank</td>\n",
       "      <td>1 Weeks on Chart</td>\n",
       "    </tr>\n",
       "    <tr>\n",
       "      <th>1</th>\n",
       "      <td>Forever After All</td>\n",
       "      <td>Luke Combs</td>\n",
       "      <td>-</td>\n",
       "      <td>2 Peak Rank</td>\n",
       "      <td>1 Weeks on Chart</td>\n",
       "    </tr>\n",
       "    <tr>\n",
       "      <th>2</th>\n",
       "      <td>Mood</td>\n",
       "      <td>24kGoldn Featuring iann dior</td>\n",
       "      <td>1</td>\n",
       "      <td>1 Peak Rank</td>\n",
       "      <td>12 Weeks on Chart</td>\n",
       "    </tr>\n",
       "    <tr>\n",
       "      <th>3</th>\n",
       "      <td>Laugh Now Cry Later</td>\n",
       "      <td>Drake Featuring Lil Durk</td>\n",
       "      <td>3</td>\n",
       "      <td>2 Peak Rank</td>\n",
       "      <td>11 Weeks on Chart</td>\n",
       "    </tr>\n",
       "    <tr>\n",
       "      <th>4</th>\n",
       "      <td>Blinding Lights</td>\n",
       "      <td>The Weeknd</td>\n",
       "      <td>4</td>\n",
       "      <td>1 Peak Rank</td>\n",
       "      <td>48 Weeks on Chart</td>\n",
       "    </tr>\n",
       "  </tbody>\n",
       "</table>\n",
       "</div>"
      ],
      "text/plain": [
       "            Song title              Artists involved Rank Last Week  \\\n",
       "0            Positions                 Ariana Grande              -   \n",
       "1    Forever After All                    Luke Combs              -   \n",
       "2                 Mood  24kGoldn Featuring iann dior              1   \n",
       "3  Laugh Now Cry Later      Drake Featuring Lil Durk              3   \n",
       "4      Blinding Lights                    The Weeknd              4   \n",
       "\n",
       "     Peak Rank           Weeks on  \n",
       "0  1 Peak Rank   1 Weeks on Chart  \n",
       "1  2 Peak Rank   1 Weeks on Chart  \n",
       "2  1 Peak Rank  12 Weeks on Chart  \n",
       "3  2 Peak Rank  11 Weeks on Chart  \n",
       "4  1 Peak Rank  48 Weeks on Chart  "
      ]
     },
     "execution_count": 19,
     "metadata": {},
     "output_type": "execute_result"
    }
   ],
   "source": [
    "billboard_df.head(5)\n"
   ]
  },
  {
   "cell_type": "code",
   "execution_count": 20,
   "metadata": {},
   "outputs": [],
   "source": [
    "#Find similarity between input strings and DF in case the human writes the song wrong or unfinished\n",
    "def input_song(df):\n",
    "    song=\"\"   \n",
    "    song=(input(\"Input one of your favourite songs \"))\n",
    "    ret_song=[]\n",
    "        \n",
    "    if song.lower() in df.str.lower().values : \n",
    "        ret_song.append(True)\n",
    "    else:\n",
    "        ret_song.append(False)\n",
    "    \n",
    "    ret_song.append(song)\n",
    "        \n",
    "    return ret_song"
   ]
  },
  {
   "cell_type": "code",
   "execution_count": 21,
   "metadata": {},
   "outputs": [],
   "source": [
    "def random_song(df):\n",
    "    \n",
    "    new_song=df[\"Song title\"].sample()\n",
    "    song_artist=df[\"Artists involved\"][df[\"Song title\"]==list(new_song)[0]]\n",
    "           \n",
    "    return new_song , song_artist"
   ]
  },
  {
   "cell_type": "code",
   "execution_count": 22,
   "metadata": {},
   "outputs": [],
   "source": [
    "def get_playlist_tracks(username,playlist_id):\n",
    "    results = spotify.user_playlist_tracks(username,playlist_id)\n",
    "    tracks = results['items']\n",
    "    while results['next']:\n",
    "        results = spotify.next(results)\n",
    "        tracks.extend(results['items'])\n",
    "    return tracks"
   ]
  },
  {
   "cell_type": "code",
   "execution_count": 23,
   "metadata": {},
   "outputs": [],
   "source": [
    "def get_details(result):\n",
    "    song_names=[]\n",
    "    song_uri=[]\n",
    "    artist_names=[]\n",
    "    artist_uri=[]\n",
    "    features=[]\n",
    "    flat_features=[]\n",
    "    song_details=[]\n",
    "    i=0\n",
    "    for item in result:\n",
    "        if item[\"is_local\"] == False:\n",
    "            i+=1\n",
    "            song_names.append(item[\"track\"][\"name\"])\n",
    "            artist_names.append(item[\"track\"][\"artists\"][0][\"name\"])\n",
    "            artist_uri.append(item[\"track\"][\"artists\"][0][\"uri\"])\n",
    "            song_uri.append(item[\"track\"][\"uri\"])\n",
    "            \n",
    "            if i==100:\n",
    "                i=0\n",
    "                features.append(spotify.audio_features(song_uri))\n",
    "                song_uri=[]\n",
    "    \n",
    "    features.append(spotify.audio_features(song_uri)) \n",
    "    \n",
    "    flat_features = [f for subfeatures in features for f in subfeatures]\n",
    "    \n",
    "    song_details.append(song_names)\n",
    "    song_details.append(artist_names)\n",
    "    song_details.append(flat_features)\n",
    "        \n",
    "    \n",
    "    return song_details , artist_uri\n"
   ]
  },
  {
   "cell_type": "code",
   "execution_count": 24,
   "metadata": {},
   "outputs": [],
   "source": [
    "def clean_features(featureslist):\n",
    "    danceability=[]    \n",
    "    energy=[]\n",
    "    loudness=[]\n",
    "    speechiness=[]\n",
    "    acousticness=[]\n",
    "    instrumentalness=[]\n",
    "    liveness=[]\n",
    "    valence=[]\n",
    "    tempo=[]\n",
    "    duration_ms=[]\n",
    "    all_features=dict()\n",
    "    \n",
    "    for feature in featureslist:\n",
    "        \n",
    "            \n",
    "        danceability.append(feature[\"danceability\"])\n",
    "        energy.append(feature[\"energy\"])\n",
    "        loudness.append(feature[\"loudness\"]) \n",
    "        speechiness.append(feature[\"speechiness\"]) \n",
    "        acousticness.append(feature[\"acousticness\"])         \n",
    "        instrumentalness.append(feature[\"instrumentalness\"]) \n",
    "        liveness.append(feature[\"liveness\"]) \n",
    "        valence.append(feature[\"valence\"])\n",
    "        tempo.append(feature[\"tempo\"]) \n",
    "        duration_ms.append(feature[\"duration_ms\"])\n",
    "            \n",
    "                \n",
    "    all_features={\"danceability\" : danceability,\n",
    "                  \"energy\" : energy,\n",
    "                  \"loudness\" : loudness,\n",
    "                  \"speechiness\" : speechiness,\n",
    "                  \"acousticness\" : acousticness,\n",
    "                  \"instrumentalness\" : instrumentalness,\n",
    "                  \"liveness\" : liveness,\n",
    "                  \"valence\" : valence,\n",
    "                  \"tempo\" : tempo,\n",
    "                  \"duration_ms\" : duration_ms                  \n",
    "                 }\n",
    "    return all_features\n",
    "    "
   ]
  },
  {
   "cell_type": "code",
   "execution_count": 25,
   "metadata": {},
   "outputs": [],
   "source": [
    "def extra_songs_from_artists(artists_uri):\n",
    "    \n",
    "    results = spotify.artist_top_tracks(artists_uri)\n",
    "    return results\n",
    "    \n",
    "    "
   ]
  },
  {
   "cell_type": "code",
   "execution_count": 61,
   "metadata": {},
   "outputs": [],
   "source": [
    "def run(original_df):\n",
    "    df=original_df.copy()\n",
    "    ask_another=\"\"\n",
    "    chosen_song = input_song(df[\"Song title\"])\n",
    "    n=0\n",
    "    while chosen_song[0]==True and n==0:\n",
    "        \n",
    "        \n",
    "        new_song=random_song(df)\n",
    "        \n",
    "        while (chosen_song[1].lower() in new_song[0].str.lower().values) :\n",
    "            new_song=random_song(df)\n",
    "            \n",
    "        \n",
    "        \n",
    "        print(\"Here's our recommendation based in your previous choice :\\nSong title: \"+\n",
    "              list(new_song[0])[0]+\"\\nInterpreted by : \"+list(new_song[1])[0])\n",
    "        \n",
    "        while ask_another.lower!=\"n\" and ask_another.lower!=\"y\":\n",
    "            \n",
    "            ask_another=(input(\"Do you want another recommendation based on your choice? y/n : \"))\n",
    "            \n",
    "            if ask_another.lower()==\"n\":\n",
    "                \n",
    "                print(\"\\nThanks for using our services!\")\n",
    "                n=1\n",
    "                break\n",
    "                \n",
    "            elif ask_another.lower()==\"y\":\n",
    "                \n",
    "                chosen_song[1]=list(new_song[0])[0]\n",
    "                #Droping actual recommendation so it doesn't repeat for the next one\n",
    "                df.drop(df[df['Song title']==list(new_song[0])[0]].index,inplace=True)\n",
    "                \n",
    "                break\n",
    "            else:\n",
    "                print(\"\\nThat's neither 'y' or 'n', try again: do you want another recommendation? y/n : \")\n",
    "            \n",
    "                \n",
    "        \n",
    "        \n",
    "            \n",
    "        \n",
    "    if chosen_song[0]==False:\n",
    "        print(\"Song not hot\")\n",
    "        artist=(input(\"Write down the name of the artist interpeting your previous song choice : \"))\n",
    "        results = spotify.search(q=\"track:\"+chosen_song[1]+\" artist:\"+artist,limit=10)\n",
    "        print(results[\"tracks\"][\"items\"][0][\"name\"])\n",
    "        print(results[\"tracks\"][\"items\"][0][\"artists\"][0][\"name\"])\n",
    "        audio_features_df=pd.DataFrame(spotify.audio_features(results[\"tracks\"][\"items\"][0][\"uri\"]))\n",
    "        audio_features=audio_features_df[[\"danceability\",\"energy\",\"loudness\",\"speechiness\",\"acousticness\",\"instrumentalness\",\"liveness\",\"valence\",\"tempo\"]]\n",
    "        chosen_song_cluster=kmeans.predict(scaler.transform(audio_features))"
   ]
  },
  {
   "cell_type": "code",
   "execution_count": 136,
   "metadata": {
    "collapsed": true
   },
   "outputs": [
    {
     "data": {
      "text/plain": [
       "{'added_at': '2018-07-15T21:44:28Z',\n",
       " 'added_by': {'external_urls': {'spotify': 'https://open.spotify.com/user/acclaimedmusic'},\n",
       "  'href': 'https://api.spotify.com/v1/users/acclaimedmusic',\n",
       "  'id': 'acclaimedmusic',\n",
       "  'type': 'user',\n",
       "  'uri': 'spotify:user:acclaimedmusic'},\n",
       " 'is_local': False,\n",
       " 'primary_color': None,\n",
       " 'track': {'album': {'album_type': 'album',\n",
       "   'artists': [{'external_urls': {'spotify': 'https://open.spotify.com/artist/74ASZWbe4lXaubB36ztrGX'},\n",
       "     'href': 'https://api.spotify.com/v1/artists/74ASZWbe4lXaubB36ztrGX',\n",
       "     'id': '74ASZWbe4lXaubB36ztrGX',\n",
       "     'name': 'Bob Dylan',\n",
       "     'type': 'artist',\n",
       "     'uri': 'spotify:artist:74ASZWbe4lXaubB36ztrGX'}],\n",
       "   'available_markets': ['AD',\n",
       "    'AE',\n",
       "    'AL',\n",
       "    'AR',\n",
       "    'AT',\n",
       "    'AU',\n",
       "    'BA',\n",
       "    'BE',\n",
       "    'BG',\n",
       "    'BH',\n",
       "    'BO',\n",
       "    'BR',\n",
       "    'BY',\n",
       "    'CA',\n",
       "    'CH',\n",
       "    'CL',\n",
       "    'CO',\n",
       "    'CR',\n",
       "    'CY',\n",
       "    'CZ',\n",
       "    'DE',\n",
       "    'DK',\n",
       "    'DO',\n",
       "    'DZ',\n",
       "    'EC',\n",
       "    'EE',\n",
       "    'EG',\n",
       "    'ES',\n",
       "    'FI',\n",
       "    'FR',\n",
       "    'GB',\n",
       "    'GR',\n",
       "    'GT',\n",
       "    'HK',\n",
       "    'HN',\n",
       "    'HR',\n",
       "    'HU',\n",
       "    'ID',\n",
       "    'IE',\n",
       "    'IL',\n",
       "    'IN',\n",
       "    'IS',\n",
       "    'IT',\n",
       "    'JO',\n",
       "    'JP',\n",
       "    'KW',\n",
       "    'KZ',\n",
       "    'LB',\n",
       "    'LI',\n",
       "    'LT',\n",
       "    'LU',\n",
       "    'LV',\n",
       "    'MA',\n",
       "    'MC',\n",
       "    'MD',\n",
       "    'ME',\n",
       "    'MK',\n",
       "    'MT',\n",
       "    'MX',\n",
       "    'MY',\n",
       "    'NI',\n",
       "    'NL',\n",
       "    'NO',\n",
       "    'NZ',\n",
       "    'OM',\n",
       "    'PA',\n",
       "    'PE',\n",
       "    'PH',\n",
       "    'PL',\n",
       "    'PS',\n",
       "    'PT',\n",
       "    'PY',\n",
       "    'QA',\n",
       "    'RO',\n",
       "    'RS',\n",
       "    'RU',\n",
       "    'SA',\n",
       "    'SE',\n",
       "    'SG',\n",
       "    'SI',\n",
       "    'SK',\n",
       "    'SV',\n",
       "    'TH',\n",
       "    'TN',\n",
       "    'TR',\n",
       "    'TW',\n",
       "    'UA',\n",
       "    'US',\n",
       "    'UY',\n",
       "    'VN',\n",
       "    'XK',\n",
       "    'ZA'],\n",
       "   'external_urls': {'spotify': 'https://open.spotify.com/album/6YabPKtZAjxwyWbuO9p4ZD'},\n",
       "   'href': 'https://api.spotify.com/v1/albums/6YabPKtZAjxwyWbuO9p4ZD',\n",
       "   'id': '6YabPKtZAjxwyWbuO9p4ZD',\n",
       "   'images': [{'height': 640,\n",
       "     'url': 'https://i.scdn.co/image/ab67616d0000b273540a241e3001ddc276b9ab93',\n",
       "     'width': 640},\n",
       "    {'height': 300,\n",
       "     'url': 'https://i.scdn.co/image/ab67616d00001e02540a241e3001ddc276b9ab93',\n",
       "     'width': 300},\n",
       "    {'height': 64,\n",
       "     'url': 'https://i.scdn.co/image/ab67616d00004851540a241e3001ddc276b9ab93',\n",
       "     'width': 64}],\n",
       "   'name': 'Highway 61 Revisited',\n",
       "   'release_date': '1965-08-30',\n",
       "   'release_date_precision': 'day',\n",
       "   'total_tracks': 9,\n",
       "   'type': 'album',\n",
       "   'uri': 'spotify:album:6YabPKtZAjxwyWbuO9p4ZD'},\n",
       "  'artists': [{'external_urls': {'spotify': 'https://open.spotify.com/artist/74ASZWbe4lXaubB36ztrGX'},\n",
       "    'href': 'https://api.spotify.com/v1/artists/74ASZWbe4lXaubB36ztrGX',\n",
       "    'id': '74ASZWbe4lXaubB36ztrGX',\n",
       "    'name': 'Bob Dylan',\n",
       "    'type': 'artist',\n",
       "    'uri': 'spotify:artist:74ASZWbe4lXaubB36ztrGX'}],\n",
       "  'available_markets': ['AD',\n",
       "   'AE',\n",
       "   'AL',\n",
       "   'AR',\n",
       "   'AT',\n",
       "   'AU',\n",
       "   'BA',\n",
       "   'BE',\n",
       "   'BG',\n",
       "   'BH',\n",
       "   'BO',\n",
       "   'BR',\n",
       "   'BY',\n",
       "   'CA',\n",
       "   'CH',\n",
       "   'CL',\n",
       "   'CO',\n",
       "   'CR',\n",
       "   'CY',\n",
       "   'CZ',\n",
       "   'DE',\n",
       "   'DK',\n",
       "   'DO',\n",
       "   'DZ',\n",
       "   'EC',\n",
       "   'EE',\n",
       "   'EG',\n",
       "   'ES',\n",
       "   'FI',\n",
       "   'FR',\n",
       "   'GB',\n",
       "   'GR',\n",
       "   'GT',\n",
       "   'HK',\n",
       "   'HN',\n",
       "   'HR',\n",
       "   'HU',\n",
       "   'ID',\n",
       "   'IE',\n",
       "   'IL',\n",
       "   'IN',\n",
       "   'IS',\n",
       "   'IT',\n",
       "   'JO',\n",
       "   'JP',\n",
       "   'KW',\n",
       "   'KZ',\n",
       "   'LB',\n",
       "   'LI',\n",
       "   'LT',\n",
       "   'LU',\n",
       "   'LV',\n",
       "   'MA',\n",
       "   'MC',\n",
       "   'MD',\n",
       "   'ME',\n",
       "   'MK',\n",
       "   'MT',\n",
       "   'MX',\n",
       "   'MY',\n",
       "   'NI',\n",
       "   'NL',\n",
       "   'NO',\n",
       "   'NZ',\n",
       "   'OM',\n",
       "   'PA',\n",
       "   'PE',\n",
       "   'PH',\n",
       "   'PL',\n",
       "   'PS',\n",
       "   'PT',\n",
       "   'PY',\n",
       "   'QA',\n",
       "   'RO',\n",
       "   'RS',\n",
       "   'RU',\n",
       "   'SA',\n",
       "   'SE',\n",
       "   'SG',\n",
       "   'SI',\n",
       "   'SK',\n",
       "   'SV',\n",
       "   'TH',\n",
       "   'TN',\n",
       "   'TR',\n",
       "   'TW',\n",
       "   'UA',\n",
       "   'US',\n",
       "   'UY',\n",
       "   'VN',\n",
       "   'XK',\n",
       "   'ZA'],\n",
       "  'disc_number': 1,\n",
       "  'duration_ms': 369600,\n",
       "  'episode': False,\n",
       "  'explicit': False,\n",
       "  'external_ids': {'isrc': 'USSM19922509'},\n",
       "  'external_urls': {'spotify': 'https://open.spotify.com/track/3AhXZa8sUQht0UEdBJgpGc'},\n",
       "  'href': 'https://api.spotify.com/v1/tracks/3AhXZa8sUQht0UEdBJgpGc',\n",
       "  'id': '3AhXZa8sUQht0UEdBJgpGc',\n",
       "  'is_local': False,\n",
       "  'name': 'Like a Rolling Stone',\n",
       "  'popularity': 74,\n",
       "  'preview_url': 'https://p.scdn.co/mp3-preview/f0eec1a1dbd31bf51cf323d2981535ec4fc5a568?cid=82c7549d6f7e4453871ce606e4752b70',\n",
       "  'track': True,\n",
       "  'track_number': 1,\n",
       "  'type': 'track',\n",
       "  'uri': 'spotify:track:3AhXZa8sUQht0UEdBJgpGc'},\n",
       " 'video_thumbnail': {'url': None}}"
      ]
     },
     "execution_count": 136,
     "metadata": {},
     "output_type": "execute_result"
    }
   ],
   "source": [
    "tracks=get_playlist_tracks(\"spotify\",\"spotify:playlist:1G8IpkZKobrIlXcVPoSIuf\")\n",
    "tracks[0]"
   ]
  },
  {
   "cell_type": "code",
   "execution_count": 137,
   "metadata": {},
   "outputs": [],
   "source": [
    "list_of_details=get_details(tracks)"
   ]
  },
  {
   "cell_type": "code",
   "execution_count": 138,
   "metadata": {},
   "outputs": [],
   "source": [
    "feats_dict=clean_features(list_of_details[0][2])"
   ]
  },
  {
   "cell_type": "code",
   "execution_count": 139,
   "metadata": {},
   "outputs": [],
   "source": [
    "songs_df=pd.DataFrame({\"Title\":test_list[0][0],\n",
    "                      \"Artists\":test_list[0][1]})\n",
    "features_df=pd.DataFrame(feats_dict)"
   ]
  },
  {
   "cell_type": "code",
   "execution_count": 140,
   "metadata": {},
   "outputs": [],
   "source": [
    "songs_df=songs_df.join(features_df)"
   ]
  },
  {
   "cell_type": "code",
   "execution_count": 142,
   "metadata": {
    "collapsed": true
   },
   "outputs": [
    {
     "name": "stdout",
     "output_type": "stream",
     "text": [
      "<class 'pandas.core.frame.DataFrame'>\n",
      "RangeIndex: 9936 entries, 0 to 9935\n",
      "Data columns (total 12 columns):\n",
      " #   Column            Non-Null Count  Dtype  \n",
      "---  ------            --------------  -----  \n",
      " 0   Title             9936 non-null   object \n",
      " 1   Artists           9936 non-null   object \n",
      " 2   danceability      9936 non-null   float64\n",
      " 3   energy            9936 non-null   float64\n",
      " 4   loudness          9936 non-null   float64\n",
      " 5   speechiness       9936 non-null   float64\n",
      " 6   acousticness      9936 non-null   float64\n",
      " 7   instrumentalness  9936 non-null   float64\n",
      " 8   liveness          9936 non-null   float64\n",
      " 9   valence           9936 non-null   float64\n",
      " 10  tempo             9936 non-null   float64\n",
      " 11  duration_ms       9936 non-null   int64  \n",
      "dtypes: float64(9), int64(1), object(2)\n",
      "memory usage: 931.6+ KB\n"
     ]
    }
   ],
   "source": [
    "songs_df.info()"
   ]
  },
  {
   "cell_type": "code",
   "execution_count": 143,
   "metadata": {},
   "outputs": [],
   "source": [
    "songs_df.to_csv(\"songs_sample.csv\")"
   ]
  },
  {
   "cell_type": "code",
   "execution_count": 34,
   "metadata": {},
   "outputs": [],
   "source": [
    "kmeans = pickle.load(open(\"kmeans\", \"rb\"))"
   ]
  },
  {
   "cell_type": "code",
   "execution_count": 55,
   "metadata": {},
   "outputs": [],
   "source": [
    "scaler = pickle.load(open(\"scaler\", \"rb\"))"
   ]
  },
  {
   "cell_type": "code",
   "execution_count": 37,
   "metadata": {},
   "outputs": [
    {
     "data": {
      "text/plain": [
       "array([4])"
      ]
     },
     "execution_count": 37,
     "metadata": {},
     "output_type": "execute_result"
    }
   ],
   "source": [
    "kmeans.predict([[1,2,3,4,5,3,1,2,3]])"
   ]
  },
  {
   "cell_type": "code",
   "execution_count": 60,
   "metadata": {
    "scrolled": true
   },
   "outputs": [
    {
     "name": "stdout",
     "output_type": "stream",
     "text": [
      "Input one of your favourite songs quimica\n",
      "Song not hot\n",
      "Write down the name of the artist interpeting your previous song choice : juancho\n",
      "Química\n",
      "Juancho Marqués\n",
      "[3]\n"
     ]
    }
   ],
   "source": [
    "run(billboard_df)"
   ]
  },
  {
   "cell_type": "code",
   "execution_count": 151,
   "metadata": {},
   "outputs": [],
   "source": []
  },
  {
   "cell_type": "code",
   "execution_count": 61,
   "metadata": {},
   "outputs": [],
   "source": []
  },
  {
   "cell_type": "code",
   "execution_count": 21,
   "metadata": {},
   "outputs": [],
   "source": [
    "#descargar todas las canciones de un album\n",
    "\n",
    "#aplicar funcion de descargar canciones de album a todos los artistas"
   ]
  },
  {
   "cell_type": "code",
   "execution_count": null,
   "metadata": {},
   "outputs": [],
   "source": [
    "#if song not hot: we need to know audio freatures from spotify api, sending input song and ask for audio features, and then we'll add the returns from spotify to a cluster\n",
    "#get a lot of songs from spotify ,atleast get uri of the song and audio features, name of the song , artists, album?, popularity"
   ]
  }
 ],
 "metadata": {
  "kernelspec": {
   "display_name": "Python 3",
   "language": "python",
   "name": "python3"
  },
  "language_info": {
   "codemirror_mode": {
    "name": "ipython",
    "version": 3
   },
   "file_extension": ".py",
   "mimetype": "text/x-python",
   "name": "python",
   "nbconvert_exporter": "python",
   "pygments_lexer": "ipython3",
   "version": "3.8.3"
  }
 },
 "nbformat": 4,
 "nbformat_minor": 4
}
