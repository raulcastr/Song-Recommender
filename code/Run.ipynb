{
 "cells": [
  {
   "cell_type": "code",
   "execution_count": 1,
   "metadata": {},
   "outputs": [],
   "source": [
    "import Functions as f\n",
    "import pandas as pd\n"
   ]
  },
  {
   "cell_type": "code",
   "execution_count": 2,
   "metadata": {},
   "outputs": [],
   "source": [
    "spotify_df=pd.read_csv(\"../data/final_list.csv\")\n",
    "spotify_df.drop(\"Unnamed: 0\",axis=1,inplace=True)"
   ]
  },
  {
   "cell_type": "code",
   "execution_count": 4,
   "metadata": {},
   "outputs": [
    {
     "name": "stdout",
     "output_type": "stream",
     "text": [
      "Write down one of your favourite songs : asdalfkjsda\n",
      "Write down the name of the artist interpeting your previous song choice : aksjdalkjf\n",
      "\n",
      "\n",
      "SORRY! , we didn't find that song in the spotify database, try again with another song please...\n",
      "\n",
      "\n",
      "\n",
      "Write down one of your favourite songs : asflaksdj\n",
      "\n",
      "Write down the name of the artist interpeting your previous song choice : saslkjdlkjf\n",
      "\n",
      "\n",
      "SORRY! , we didn't find that song in the spotify database, try again with another song please...\n",
      "\n",
      "\n",
      "\n",
      "Write down one of your favourite songs : fly away\n",
      "\n",
      "Write down the name of the artist interpeting your previous song choice : lenny\n",
      "\n",
      "Your song choice was 'Fly Away' interpreted by 'Lenny Kravitz'\n",
      "\n",
      "Here goes our recommendation song based in your previous choice :\n",
      "\n",
      "\n",
      "'Marie-Jeanne' interpreted by 'Joe Dassin'\n",
      "\n",
      "\n",
      "\n",
      "Do you want another recommendation based on your choice? y/n : y\n",
      "\n",
      "Here goes our recommendation song based in your previous choice :\n",
      "\n",
      "\n",
      "'This Corrosion - (Remastered)' interpreted by 'Sisters of Mercy'\n",
      "\n",
      "\n",
      "\n",
      "Do you want another recommendation based on your choice? y/n : y\n",
      "\n",
      "Here goes our recommendation song based in your previous choice :\n",
      "\n",
      "\n",
      "'Hands On the Wheel' interpreted by 'ScHoolboy Q'\n",
      "\n",
      "\n",
      "\n",
      "Do you want another recommendation based on your choice? y/n : n\n",
      "\n",
      "Thanks for using our services!\n"
     ]
    }
   ],
   "source": [
    "f.run(f.create_hot100_df(),spotify_df)"
   ]
  },
  {
   "cell_type": "code",
   "execution_count": null,
   "metadata": {},
   "outputs": [],
   "source": []
  }
 ],
 "metadata": {
  "kernelspec": {
   "display_name": "Python 3",
   "language": "python",
   "name": "python3"
  },
  "language_info": {
   "codemirror_mode": {
    "name": "ipython",
    "version": 3
   },
   "file_extension": ".py",
   "mimetype": "text/x-python",
   "name": "python",
   "nbconvert_exporter": "python",
   "pygments_lexer": "ipython3",
   "version": "3.8.3"
  }
 },
 "nbformat": 4,
 "nbformat_minor": 4
}
