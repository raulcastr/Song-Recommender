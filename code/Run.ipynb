{
 "cells": [
  {
   "cell_type": "code",
   "execution_count": 1,
   "metadata": {},
   "outputs": [],
   "source": [
    "import Functions as f\n",
    "import pandas as pd\n"
   ]
  },
  {
   "cell_type": "code",
   "execution_count": 2,
   "metadata": {},
   "outputs": [],
   "source": [
    "spotify_df=pd.read_csv(\"../data/final_list.csv\")\n",
    "spotify_df.drop(\"Unnamed: 0\",axis=1,inplace=True)"
   ]
  },
  {
   "cell_type": "code",
   "execution_count": 3,
   "metadata": {},
   "outputs": [
    {
     "name": "stdout",
     "output_type": "stream",
     "text": [
      "Write down one of your favourite songs : fly away\n",
      "Write down the name of the artist interpeting your previous song choice : lenny krav\n",
      "\n",
      "Your song choice was 'Fly Away' interpreted by 'Lenny Kravitz'\n",
      "\n",
      "Here goes our recommendation song based in your previous choice :\n",
      "\n",
      "\n",
      "'The Boy with the Thorn in His Side - 2011 Remaster' interpreted by 'The Smiths'\n",
      "\n",
      "\n",
      "\n",
      "Do you want another recommendation based on your choice? y/n : n\n",
      "\n",
      "Thanks for using our services!\n"
     ]
    }
   ],
   "source": [
    "f.run(f.create_hot100_df(),spotify_df)"
   ]
  },
  {
   "cell_type": "code",
   "execution_count": null,
   "metadata": {},
   "outputs": [],
   "source": []
  }
 ],
 "metadata": {
  "kernelspec": {
   "display_name": "Python 3",
   "language": "python",
   "name": "python3"
  },
  "language_info": {
   "codemirror_mode": {
    "name": "ipython",
    "version": 3
   },
   "file_extension": ".py",
   "mimetype": "text/x-python",
   "name": "python",
   "nbconvert_exporter": "python",
   "pygments_lexer": "ipython3",
   "version": "3.8.3"
  }
 },
 "nbformat": 4,
 "nbformat_minor": 4
}
