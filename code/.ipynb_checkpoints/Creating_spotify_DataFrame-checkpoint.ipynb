{
 "cells": [
  {
   "cell_type": "code",
   "execution_count": 16,
   "metadata": {},
   "outputs": [],
   "source": [
    "import pandas as pd\n",
    "import numpy as np\n",
    "import requests\n",
    "import Functions as f"
   ]
  },
  {
   "cell_type": "code",
   "execution_count": 17,
   "metadata": {
    "scrolled": true
   },
   "outputs": [],
   "source": [
    "#Getting all tracks info from a playlist:\n",
    "tracks=f.get_playlist_tracks(\"spotify\",\"spotify:playlist:1G8IpkZKobrIlXcVPoSIuf\")"
   ]
  },
  {
   "cell_type": "code",
   "execution_count": 4,
   "metadata": {},
   "outputs": [],
   "source": [
    "#Getting song titles, artists and features from the info we collected from the playlist:\n",
    "list_of_details=f.get_details_tracks(tracks)"
   ]
  },
  {
   "cell_type": "code",
   "execution_count": 10,
   "metadata": {},
   "outputs": [],
   "source": [
    "#cleaning audio features dictionary and select the ones we need:\n",
    "feats_dict=f.clean_features(list_of_details[0][2])"
   ]
  },
  {
   "cell_type": "code",
   "execution_count": 11,
   "metadata": {},
   "outputs": [],
   "source": [
    "#creating a dataframe with all the data we got\n",
    "songs_df=pd.DataFrame({\"Title\":list_of_details[0][0],\n",
    "                      \"Artists\":list_of_details[0][1]})\n",
    "features_df=pd.DataFrame(feats_dict)"
   ]
  },
  {
   "cell_type": "code",
   "execution_count": 12,
   "metadata": {},
   "outputs": [],
   "source": [
    "#joining titles+artists+ audio features in the same DF\n",
    "songs_df=songs_df.join(features_df)"
   ]
  },
  {
   "cell_type": "code",
   "execution_count": 15,
   "metadata": {},
   "outputs": [
    {
     "name": "stdout",
     "output_type": "stream",
     "text": [
      "<class 'pandas.core.frame.DataFrame'>\n",
      "RangeIndex: 9936 entries, 0 to 9935\n",
      "Data columns (total 12 columns):\n",
      " #   Column            Non-Null Count  Dtype  \n",
      "---  ------            --------------  -----  \n",
      " 0   Title             9936 non-null   object \n",
      " 1   Artists           9936 non-null   object \n",
      " 2   danceability      9936 non-null   float64\n",
      " 3   energy            9936 non-null   float64\n",
      " 4   loudness          9936 non-null   float64\n",
      " 5   speechiness       9936 non-null   float64\n",
      " 6   acousticness      9936 non-null   float64\n",
      " 7   instrumentalness  9936 non-null   float64\n",
      " 8   liveness          9936 non-null   float64\n",
      " 9   valence           9936 non-null   float64\n",
      " 10  tempo             9936 non-null   float64\n",
      " 11  duration_ms       9936 non-null   int64  \n",
      "dtypes: float64(9), int64(1), object(2)\n",
      "memory usage: 931.6+ KB\n"
     ]
    }
   ],
   "source": [
    "songs_df.info()"
   ]
  },
  {
   "cell_type": "code",
   "execution_count": 14,
   "metadata": {},
   "outputs": [
    {
     "data": {
      "text/html": [
       "<div>\n",
       "<style scoped>\n",
       "    .dataframe tbody tr th:only-of-type {\n",
       "        vertical-align: middle;\n",
       "    }\n",
       "\n",
       "    .dataframe tbody tr th {\n",
       "        vertical-align: top;\n",
       "    }\n",
       "\n",
       "    .dataframe thead th {\n",
       "        text-align: right;\n",
       "    }\n",
       "</style>\n",
       "<table border=\"1\" class=\"dataframe\">\n",
       "  <thead>\n",
       "    <tr style=\"text-align: right;\">\n",
       "      <th></th>\n",
       "      <th>Title</th>\n",
       "      <th>Artists</th>\n",
       "      <th>danceability</th>\n",
       "      <th>energy</th>\n",
       "      <th>loudness</th>\n",
       "      <th>speechiness</th>\n",
       "      <th>acousticness</th>\n",
       "      <th>instrumentalness</th>\n",
       "      <th>liveness</th>\n",
       "      <th>valence</th>\n",
       "      <th>tempo</th>\n",
       "      <th>duration_ms</th>\n",
       "    </tr>\n",
       "  </thead>\n",
       "  <tbody>\n",
       "    <tr>\n",
       "      <th>0</th>\n",
       "      <td>Like a Rolling Stone</td>\n",
       "      <td>Bob Dylan</td>\n",
       "      <td>0.483</td>\n",
       "      <td>0.721</td>\n",
       "      <td>-6.836</td>\n",
       "      <td>0.0320</td>\n",
       "      <td>0.729000</td>\n",
       "      <td>0.000000</td>\n",
       "      <td>0.1890</td>\n",
       "      <td>0.562</td>\n",
       "      <td>95.261</td>\n",
       "      <td>369600</td>\n",
       "    </tr>\n",
       "    <tr>\n",
       "      <th>1</th>\n",
       "      <td>Smells Like Teen Spirit</td>\n",
       "      <td>Nirvana</td>\n",
       "      <td>0.485</td>\n",
       "      <td>0.863</td>\n",
       "      <td>-9.027</td>\n",
       "      <td>0.0495</td>\n",
       "      <td>0.000012</td>\n",
       "      <td>0.016200</td>\n",
       "      <td>0.1380</td>\n",
       "      <td>0.767</td>\n",
       "      <td>116.835</td>\n",
       "      <td>300977</td>\n",
       "    </tr>\n",
       "    <tr>\n",
       "      <th>2</th>\n",
       "      <td>A Day In The Life - Remastered</td>\n",
       "      <td>The Beatles</td>\n",
       "      <td>0.364</td>\n",
       "      <td>0.457</td>\n",
       "      <td>-14.162</td>\n",
       "      <td>0.0675</td>\n",
       "      <td>0.290000</td>\n",
       "      <td>0.000106</td>\n",
       "      <td>0.9220</td>\n",
       "      <td>0.175</td>\n",
       "      <td>163.219</td>\n",
       "      <td>337413</td>\n",
       "    </tr>\n",
       "    <tr>\n",
       "      <th>3</th>\n",
       "      <td>Good Vibrations (Mono)</td>\n",
       "      <td>The Beach Boys</td>\n",
       "      <td>0.398</td>\n",
       "      <td>0.413</td>\n",
       "      <td>-10.934</td>\n",
       "      <td>0.0388</td>\n",
       "      <td>0.082200</td>\n",
       "      <td>0.000025</td>\n",
       "      <td>0.0891</td>\n",
       "      <td>0.331</td>\n",
       "      <td>133.574</td>\n",
       "      <td>219147</td>\n",
       "    </tr>\n",
       "    <tr>\n",
       "      <th>4</th>\n",
       "      <td>(I Can't Get No) Satisfaction - Mono Version /...</td>\n",
       "      <td>The Rolling Stones</td>\n",
       "      <td>0.725</td>\n",
       "      <td>0.853</td>\n",
       "      <td>-7.842</td>\n",
       "      <td>0.0353</td>\n",
       "      <td>0.034800</td>\n",
       "      <td>0.127000</td>\n",
       "      <td>0.1960</td>\n",
       "      <td>0.904</td>\n",
       "      <td>136.282</td>\n",
       "      <td>222813</td>\n",
       "    </tr>\n",
       "  </tbody>\n",
       "</table>\n",
       "</div>"
      ],
      "text/plain": [
       "                                               Title             Artists  \\\n",
       "0                               Like a Rolling Stone           Bob Dylan   \n",
       "1                            Smells Like Teen Spirit             Nirvana   \n",
       "2                     A Day In The Life - Remastered         The Beatles   \n",
       "3                             Good Vibrations (Mono)      The Beach Boys   \n",
       "4  (I Can't Get No) Satisfaction - Mono Version /...  The Rolling Stones   \n",
       "\n",
       "   danceability  energy  loudness  speechiness  acousticness  \\\n",
       "0         0.483   0.721    -6.836       0.0320      0.729000   \n",
       "1         0.485   0.863    -9.027       0.0495      0.000012   \n",
       "2         0.364   0.457   -14.162       0.0675      0.290000   \n",
       "3         0.398   0.413   -10.934       0.0388      0.082200   \n",
       "4         0.725   0.853    -7.842       0.0353      0.034800   \n",
       "\n",
       "   instrumentalness  liveness  valence    tempo  duration_ms  \n",
       "0          0.000000    0.1890    0.562   95.261       369600  \n",
       "1          0.016200    0.1380    0.767  116.835       300977  \n",
       "2          0.000106    0.9220    0.175  163.219       337413  \n",
       "3          0.000025    0.0891    0.331  133.574       219147  \n",
       "4          0.127000    0.1960    0.904  136.282       222813  "
      ]
     },
     "execution_count": 14,
     "metadata": {},
     "output_type": "execute_result"
    }
   ],
   "source": [
    "songs_df.head()"
   ]
  },
  {
   "cell_type": "code",
   "execution_count": 1,
   "metadata": {},
   "outputs": [],
   "source": [
    "#saving the DF to a csv file:\n",
    "songs_df.to_csv(\"../data/songs_sample.csv\")"
   ]
  },
  {
   "cell_type": "code",
   "execution_count": null,
   "metadata": {},
   "outputs": [],
   "source": []
  }
 ],
 "metadata": {
  "kernelspec": {
   "display_name": "Python 3",
   "language": "python",
   "name": "python3"
  },
  "language_info": {
   "codemirror_mode": {
    "name": "ipython",
    "version": 3
   },
   "file_extension": ".py",
   "mimetype": "text/x-python",
   "name": "python",
   "nbconvert_exporter": "python",
   "pygments_lexer": "ipython3",
   "version": "3.8.3"
  }
 },
 "nbformat": 4,
 "nbformat_minor": 4
}
