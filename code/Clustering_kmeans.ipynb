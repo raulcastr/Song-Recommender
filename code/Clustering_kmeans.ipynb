{
 "cells": [
  {
   "cell_type": "code",
   "execution_count": 1,
   "metadata": {},
   "outputs": [],
   "source": [
    "import pandas as pd\n",
    "import numpy as np\n",
    "import requests\n",
    "from sklearn.preprocessing import StandardScaler\n",
    "from sklearn import datasets\n",
    "from sklearn.cluster import KMeans\n",
    "import matplotlib.pyplot as plt\n",
    "import pickle"
   ]
  },
  {
   "cell_type": "code",
   "execution_count": 2,
   "metadata": {
    "scrolled": true
   },
   "outputs": [
    {
     "data": {
      "text/html": [
       "<div>\n",
       "<style scoped>\n",
       "    .dataframe tbody tr th:only-of-type {\n",
       "        vertical-align: middle;\n",
       "    }\n",
       "\n",
       "    .dataframe tbody tr th {\n",
       "        vertical-align: top;\n",
       "    }\n",
       "\n",
       "    .dataframe thead th {\n",
       "        text-align: right;\n",
       "    }\n",
       "</style>\n",
       "<table border=\"1\" class=\"dataframe\">\n",
       "  <thead>\n",
       "    <tr style=\"text-align: right;\">\n",
       "      <th></th>\n",
       "      <th>Unnamed: 0</th>\n",
       "      <th>Title</th>\n",
       "      <th>Artists</th>\n",
       "      <th>danceability</th>\n",
       "      <th>energy</th>\n",
       "      <th>loudness</th>\n",
       "      <th>speechiness</th>\n",
       "      <th>acousticness</th>\n",
       "      <th>instrumentalness</th>\n",
       "      <th>liveness</th>\n",
       "      <th>valence</th>\n",
       "      <th>tempo</th>\n",
       "      <th>duration_ms</th>\n",
       "    </tr>\n",
       "  </thead>\n",
       "  <tbody>\n",
       "    <tr>\n",
       "      <th>0</th>\n",
       "      <td>0</td>\n",
       "      <td>Like a Rolling Stone</td>\n",
       "      <td>Bob Dylan</td>\n",
       "      <td>0.483</td>\n",
       "      <td>0.721</td>\n",
       "      <td>-6.836</td>\n",
       "      <td>0.0320</td>\n",
       "      <td>0.729000</td>\n",
       "      <td>0.000000</td>\n",
       "      <td>0.1890</td>\n",
       "      <td>0.562</td>\n",
       "      <td>95.261</td>\n",
       "      <td>369600</td>\n",
       "    </tr>\n",
       "    <tr>\n",
       "      <th>1</th>\n",
       "      <td>1</td>\n",
       "      <td>Smells Like Teen Spirit</td>\n",
       "      <td>Nirvana</td>\n",
       "      <td>0.485</td>\n",
       "      <td>0.863</td>\n",
       "      <td>-9.027</td>\n",
       "      <td>0.0495</td>\n",
       "      <td>0.000012</td>\n",
       "      <td>0.016200</td>\n",
       "      <td>0.1380</td>\n",
       "      <td>0.767</td>\n",
       "      <td>116.835</td>\n",
       "      <td>300977</td>\n",
       "    </tr>\n",
       "    <tr>\n",
       "      <th>2</th>\n",
       "      <td>2</td>\n",
       "      <td>A Day In The Life - Remastered</td>\n",
       "      <td>The Beatles</td>\n",
       "      <td>0.364</td>\n",
       "      <td>0.457</td>\n",
       "      <td>-14.162</td>\n",
       "      <td>0.0675</td>\n",
       "      <td>0.290000</td>\n",
       "      <td>0.000106</td>\n",
       "      <td>0.9220</td>\n",
       "      <td>0.175</td>\n",
       "      <td>163.219</td>\n",
       "      <td>337413</td>\n",
       "    </tr>\n",
       "    <tr>\n",
       "      <th>3</th>\n",
       "      <td>3</td>\n",
       "      <td>Good Vibrations (Mono)</td>\n",
       "      <td>The Beach Boys</td>\n",
       "      <td>0.398</td>\n",
       "      <td>0.413</td>\n",
       "      <td>-10.934</td>\n",
       "      <td>0.0388</td>\n",
       "      <td>0.082200</td>\n",
       "      <td>0.000025</td>\n",
       "      <td>0.0891</td>\n",
       "      <td>0.331</td>\n",
       "      <td>133.574</td>\n",
       "      <td>219147</td>\n",
       "    </tr>\n",
       "    <tr>\n",
       "      <th>4</th>\n",
       "      <td>4</td>\n",
       "      <td>(I Can't Get No) Satisfaction - Mono Version /...</td>\n",
       "      <td>The Rolling Stones</td>\n",
       "      <td>0.725</td>\n",
       "      <td>0.853</td>\n",
       "      <td>-7.842</td>\n",
       "      <td>0.0353</td>\n",
       "      <td>0.034800</td>\n",
       "      <td>0.127000</td>\n",
       "      <td>0.1960</td>\n",
       "      <td>0.904</td>\n",
       "      <td>136.282</td>\n",
       "      <td>222813</td>\n",
       "    </tr>\n",
       "  </tbody>\n",
       "</table>\n",
       "</div>"
      ],
      "text/plain": [
       "   Unnamed: 0                                              Title  \\\n",
       "0           0                               Like a Rolling Stone   \n",
       "1           1                            Smells Like Teen Spirit   \n",
       "2           2                     A Day In The Life - Remastered   \n",
       "3           3                             Good Vibrations (Mono)   \n",
       "4           4  (I Can't Get No) Satisfaction - Mono Version /...   \n",
       "\n",
       "              Artists  danceability  energy  loudness  speechiness  \\\n",
       "0           Bob Dylan         0.483   0.721    -6.836       0.0320   \n",
       "1             Nirvana         0.485   0.863    -9.027       0.0495   \n",
       "2         The Beatles         0.364   0.457   -14.162       0.0675   \n",
       "3      The Beach Boys         0.398   0.413   -10.934       0.0388   \n",
       "4  The Rolling Stones         0.725   0.853    -7.842       0.0353   \n",
       "\n",
       "   acousticness  instrumentalness  liveness  valence    tempo  duration_ms  \n",
       "0      0.729000          0.000000    0.1890    0.562   95.261       369600  \n",
       "1      0.000012          0.016200    0.1380    0.767  116.835       300977  \n",
       "2      0.290000          0.000106    0.9220    0.175  163.219       337413  \n",
       "3      0.082200          0.000025    0.0891    0.331  133.574       219147  \n",
       "4      0.034800          0.127000    0.1960    0.904  136.282       222813  "
      ]
     },
     "execution_count": 2,
     "metadata": {},
     "output_type": "execute_result"
    }
   ],
   "source": [
    "tracks_clust=pd.read_csv(\"../data/songs_sample.csv\")\n",
    "tracks_clust.head()"
   ]
  },
  {
   "cell_type": "code",
   "execution_count": 3,
   "metadata": {},
   "outputs": [],
   "source": [
    "tracks_clust.drop(\"Unnamed: 0\",axis=1,inplace=True)\n",
    "tracks_clust.drop(\"Title\",axis=1,inplace=True)\n",
    "tracks_clust.drop(\"Artists\",axis=1,inplace=True)\n",
    "tracks_clust.drop(\"duration_ms\",axis=1,inplace=True)"
   ]
  },
  {
   "cell_type": "code",
   "execution_count": 4,
   "metadata": {
    "scrolled": true
   },
   "outputs": [
    {
     "data": {
      "text/html": [
       "<div>\n",
       "<style scoped>\n",
       "    .dataframe tbody tr th:only-of-type {\n",
       "        vertical-align: middle;\n",
       "    }\n",
       "\n",
       "    .dataframe tbody tr th {\n",
       "        vertical-align: top;\n",
       "    }\n",
       "\n",
       "    .dataframe thead th {\n",
       "        text-align: right;\n",
       "    }\n",
       "</style>\n",
       "<table border=\"1\" class=\"dataframe\">\n",
       "  <thead>\n",
       "    <tr style=\"text-align: right;\">\n",
       "      <th></th>\n",
       "      <th>danceability</th>\n",
       "      <th>energy</th>\n",
       "      <th>loudness</th>\n",
       "      <th>speechiness</th>\n",
       "      <th>acousticness</th>\n",
       "      <th>instrumentalness</th>\n",
       "      <th>liveness</th>\n",
       "      <th>valence</th>\n",
       "      <th>tempo</th>\n",
       "    </tr>\n",
       "  </thead>\n",
       "  <tbody>\n",
       "    <tr>\n",
       "      <th>0</th>\n",
       "      <td>0.483</td>\n",
       "      <td>0.721</td>\n",
       "      <td>-6.836</td>\n",
       "      <td>0.0320</td>\n",
       "      <td>0.729000</td>\n",
       "      <td>0.000000</td>\n",
       "      <td>0.1890</td>\n",
       "      <td>0.562</td>\n",
       "      <td>95.261</td>\n",
       "    </tr>\n",
       "    <tr>\n",
       "      <th>1</th>\n",
       "      <td>0.485</td>\n",
       "      <td>0.863</td>\n",
       "      <td>-9.027</td>\n",
       "      <td>0.0495</td>\n",
       "      <td>0.000012</td>\n",
       "      <td>0.016200</td>\n",
       "      <td>0.1380</td>\n",
       "      <td>0.767</td>\n",
       "      <td>116.835</td>\n",
       "    </tr>\n",
       "    <tr>\n",
       "      <th>2</th>\n",
       "      <td>0.364</td>\n",
       "      <td>0.457</td>\n",
       "      <td>-14.162</td>\n",
       "      <td>0.0675</td>\n",
       "      <td>0.290000</td>\n",
       "      <td>0.000106</td>\n",
       "      <td>0.9220</td>\n",
       "      <td>0.175</td>\n",
       "      <td>163.219</td>\n",
       "    </tr>\n",
       "    <tr>\n",
       "      <th>3</th>\n",
       "      <td>0.398</td>\n",
       "      <td>0.413</td>\n",
       "      <td>-10.934</td>\n",
       "      <td>0.0388</td>\n",
       "      <td>0.082200</td>\n",
       "      <td>0.000025</td>\n",
       "      <td>0.0891</td>\n",
       "      <td>0.331</td>\n",
       "      <td>133.574</td>\n",
       "    </tr>\n",
       "    <tr>\n",
       "      <th>4</th>\n",
       "      <td>0.725</td>\n",
       "      <td>0.853</td>\n",
       "      <td>-7.842</td>\n",
       "      <td>0.0353</td>\n",
       "      <td>0.034800</td>\n",
       "      <td>0.127000</td>\n",
       "      <td>0.1960</td>\n",
       "      <td>0.904</td>\n",
       "      <td>136.282</td>\n",
       "    </tr>\n",
       "  </tbody>\n",
       "</table>\n",
       "</div>"
      ],
      "text/plain": [
       "   danceability  energy  loudness  speechiness  acousticness  \\\n",
       "0         0.483   0.721    -6.836       0.0320      0.729000   \n",
       "1         0.485   0.863    -9.027       0.0495      0.000012   \n",
       "2         0.364   0.457   -14.162       0.0675      0.290000   \n",
       "3         0.398   0.413   -10.934       0.0388      0.082200   \n",
       "4         0.725   0.853    -7.842       0.0353      0.034800   \n",
       "\n",
       "   instrumentalness  liveness  valence    tempo  \n",
       "0          0.000000    0.1890    0.562   95.261  \n",
       "1          0.016200    0.1380    0.767  116.835  \n",
       "2          0.000106    0.9220    0.175  163.219  \n",
       "3          0.000025    0.0891    0.331  133.574  \n",
       "4          0.127000    0.1960    0.904  136.282  "
      ]
     },
     "execution_count": 4,
     "metadata": {},
     "output_type": "execute_result"
    }
   ],
   "source": [
    "tracks_clust.head()"
   ]
  },
  {
   "cell_type": "code",
   "execution_count": 5,
   "metadata": {},
   "outputs": [],
   "source": [
    "scaler = StandardScaler()"
   ]
  },
  {
   "cell_type": "code",
   "execution_count": 6,
   "metadata": {},
   "outputs": [
    {
     "data": {
      "text/html": [
       "<div>\n",
       "<style scoped>\n",
       "    .dataframe tbody tr th:only-of-type {\n",
       "        vertical-align: middle;\n",
       "    }\n",
       "\n",
       "    .dataframe tbody tr th {\n",
       "        vertical-align: top;\n",
       "    }\n",
       "\n",
       "    .dataframe thead th {\n",
       "        text-align: right;\n",
       "    }\n",
       "</style>\n",
       "<table border=\"1\" class=\"dataframe\">\n",
       "  <thead>\n",
       "    <tr style=\"text-align: right;\">\n",
       "      <th></th>\n",
       "      <th>0</th>\n",
       "      <th>1</th>\n",
       "      <th>2</th>\n",
       "      <th>3</th>\n",
       "      <th>4</th>\n",
       "      <th>5</th>\n",
       "      <th>6</th>\n",
       "      <th>7</th>\n",
       "      <th>8</th>\n",
       "    </tr>\n",
       "  </thead>\n",
       "  <tbody>\n",
       "    <tr>\n",
       "      <th>0</th>\n",
       "      <td>-0.481845</td>\n",
       "      <td>0.409299</td>\n",
       "      <td>0.598586</td>\n",
       "      <td>-0.516460</td>\n",
       "      <td>1.387547</td>\n",
       "      <td>-0.444967</td>\n",
       "      <td>-0.008453</td>\n",
       "      <td>-0.060479</td>\n",
       "      <td>-0.948046</td>\n",
       "    </tr>\n",
       "    <tr>\n",
       "      <th>1</th>\n",
       "      <td>-0.469756</td>\n",
       "      <td>1.025072</td>\n",
       "      <td>0.027648</td>\n",
       "      <td>-0.280361</td>\n",
       "      <td>-0.922023</td>\n",
       "      <td>-0.376796</td>\n",
       "      <td>-0.337948</td>\n",
       "      <td>0.774640</td>\n",
       "      <td>-0.175476</td>\n",
       "    </tr>\n",
       "    <tr>\n",
       "      <th>2</th>\n",
       "      <td>-1.201144</td>\n",
       "      <td>-0.735516</td>\n",
       "      <td>-1.310448</td>\n",
       "      <td>-0.037516</td>\n",
       "      <td>-0.003287</td>\n",
       "      <td>-0.444521</td>\n",
       "      <td>4.727235</td>\n",
       "      <td>-1.637022</td>\n",
       "      <td>1.485545</td>\n",
       "    </tr>\n",
       "    <tr>\n",
       "      <th>3</th>\n",
       "      <td>-0.995630</td>\n",
       "      <td>-0.926319</td>\n",
       "      <td>-0.469285</td>\n",
       "      <td>-0.424719</td>\n",
       "      <td>-0.661637</td>\n",
       "      <td>-0.444861</td>\n",
       "      <td>-0.653876</td>\n",
       "      <td>-1.001517</td>\n",
       "      <td>0.423951</td>\n",
       "    </tr>\n",
       "    <tr>\n",
       "      <th>4</th>\n",
       "      <td>0.980931</td>\n",
       "      <td>0.981707</td>\n",
       "      <td>0.336439</td>\n",
       "      <td>-0.471938</td>\n",
       "      <td>-0.811809</td>\n",
       "      <td>0.089462</td>\n",
       "      <td>0.036772</td>\n",
       "      <td>1.332745</td>\n",
       "      <td>0.520925</td>\n",
       "    </tr>\n",
       "  </tbody>\n",
       "</table>\n",
       "</div>"
      ],
      "text/plain": [
       "          0         1         2         3         4         5         6  \\\n",
       "0 -0.481845  0.409299  0.598586 -0.516460  1.387547 -0.444967 -0.008453   \n",
       "1 -0.469756  1.025072  0.027648 -0.280361 -0.922023 -0.376796 -0.337948   \n",
       "2 -1.201144 -0.735516 -1.310448 -0.037516 -0.003287 -0.444521  4.727235   \n",
       "3 -0.995630 -0.926319 -0.469285 -0.424719 -0.661637 -0.444861 -0.653876   \n",
       "4  0.980931  0.981707  0.336439 -0.471938 -0.811809  0.089462  0.036772   \n",
       "\n",
       "          7         8  \n",
       "0 -0.060479 -0.948046  \n",
       "1  0.774640 -0.175476  \n",
       "2 -1.637022  1.485545  \n",
       "3 -1.001517  0.423951  \n",
       "4  1.332745  0.520925  "
      ]
     },
     "execution_count": 6,
     "metadata": {},
     "output_type": "execute_result"
    }
   ],
   "source": [
    "tracks_scaled = scaler.fit_transform(tracks_clust)\n",
    "pd.DataFrame(tracks_scaled).head()"
   ]
  },
  {
   "cell_type": "code",
   "execution_count": 7,
   "metadata": {},
   "outputs": [],
   "source": [
    "##### Try to run Kmeans with all values of K, from 2 to 20\n",
    "K = range(2, 20)\n",
    "\n",
    "# For each model, store the inertia in a list\n",
    "inertia = []\n",
    "for k in K:\n",
    "    kmeans = KMeans(n_clusters=k,\n",
    "                init=\"k-means++\",\n",
    "                n_init=10,  # try with 1, 4, 8, 20, 30, 100...\n",
    "                max_iter=50,\n",
    "                tol=0,\n",
    "                algorithm=\"full\")\n",
    "    kmeans.fit(tracks_scaled)\n",
    "    inertia.append(kmeans.inertia_)\n",
    "    \n",
    "    "
   ]
  },
  {
   "cell_type": "code",
   "execution_count": 8,
   "metadata": {},
   "outputs": [
    {
     "data": {
      "text/plain": [
       "Text(0.5, 1.0, 'Elbow Method showing the optimal k')"
      ]
     },
     "execution_count": 8,
     "metadata": {},
     "output_type": "execute_result"
    },
    {
     "data": {
      "image/png": "[encoded data removed]",
      "text/plain": [
       "<Figure size 1152x576 with 1 Axes>"
      ]
     },
     "metadata": {
      "needs_background": "light"
     },
     "output_type": "display_data"
    }
   ],
   "source": [
    "# Plot the results\n",
    "%matplotlib inline\n",
    "\n",
    "plt.figure(figsize=(16,8))\n",
    "plt.plot(K, inertia, 'bx-')\n",
    "plt.xlabel('k')\n",
    "plt.ylabel('inertia')\n",
    "plt.xticks(np.arange(min(K), max(K)+1, 1.0))\n",
    "plt.title('Elbow Method showing the optimal k')"
   ]
  },
  {
   "cell_type": "code",
   "execution_count": 9,
   "metadata": {},
   "outputs": [],
   "source": [
    "from sklearn.metrics import silhouette_score\n",
    "\n",
    "# repeat the same process, now with the silhouette score\n",
    "K = range(2, 20)\n",
    "silhouette = []\n",
    "for k in K:\n",
    "    kmeans = KMeans(n_clusters=k,\n",
    "                init=\"k-means++\",\n",
    "                n_init=10,\n",
    "                max_iter=50,\n",
    "                tol=0,\n",
    "                algorithm=\"full\")\n",
    "    kmeans.fit(tracks_scaled)\n",
    "    silhouette.append(silhouette_score(X=tracks_scaled,labels=kmeans.predict(tracks_scaled)))\n"
   ]
  },
  {
   "cell_type": "code",
   "execution_count": 10,
   "metadata": {
    "scrolled": true
   },
   "outputs": [
    {
     "data": {
      "text/plain": [
       "Text(0.5, 1.0, 'Elbow Method showing the optimal k')"
      ]
     },
     "execution_count": 10,
     "metadata": {},
     "output_type": "execute_result"
    },
    {
     "data": {
      "image/png": "[encoded data removed]",
      "text/plain": [
       "<Figure size 1152x576 with 1 Axes>"
      ]
     },
     "metadata": {
      "needs_background": "light"
     },
     "output_type": "display_data"
    }
   ],
   "source": [
    "# plot\n",
    "plt.figure(figsize=(16,8))\n",
    "plt.plot(K, silhouette, 'bx-')\n",
    "plt.xlabel('k')\n",
    "plt.ylabel('silhouette score')\n",
    "plt.xticks(np.arange(min(K), max(K)+1, 1.0))\n",
    "plt.title('Elbow Method showing the optimal k')"
   ]
  },
  {
   "cell_type": "code",
   "execution_count": 11,
   "metadata": {},
   "outputs": [],
   "source": [
    "kmeans = KMeans(n_clusters=6,\n",
    "                init=\"k-means++\",\n",
    "                n_init=10,  # try with 1, 4, 8, 20, 30, 100...\n",
    "                max_iter=50,\n",
    "                tol=0,\n",
    "                algorithm=\"full\"\n",
    "                )\n"
   ]
  },
  {
   "cell_type": "code",
   "execution_count": 12,
   "metadata": {},
   "outputs": [
    {
     "data": {
      "text/plain": [
       "KMeans(algorithm='full', max_iter=50, n_clusters=6, tol=0)"
      ]
     },
     "execution_count": 12,
     "metadata": {},
     "output_type": "execute_result"
    }
   ],
   "source": [
    "# scaler.transform() to the song when the fit_transform has been done on the DataFrame\n",
    "kmeans.fit(tracks_scaled)"
   ]
  },
  {
   "cell_type": "code",
   "execution_count": 13,
   "metadata": {},
   "outputs": [],
   "source": [
    "pickle.dump(kmeans, open(\"kmeans\", \"wb\"))"
   ]
  },
  {
   "cell_type": "code",
   "execution_count": 14,
   "metadata": {},
   "outputs": [],
   "source": [
    "pickle.dump(scaler, open(\"scaler\", \"wb\"))"
   ]
  },
  {
   "cell_type": "code",
   "execution_count": 15,
   "metadata": {},
   "outputs": [],
   "source": [
    "clusters = kmeans.predict(tracks_scaled)"
   ]
  },
  {
   "cell_type": "code",
   "execution_count": 16,
   "metadata": {},
   "outputs": [
    {
     "data": {
      "text/plain": [
       "0    3231\n",
       "2    2357\n",
       "1    2091\n",
       "5     943\n",
       "3     697\n",
       "4     617\n",
       "dtype: int64"
      ]
     },
     "execution_count": 16,
     "metadata": {},
     "output_type": "execute_result"
    }
   ],
   "source": [
    "pd.Series(clusters).value_counts()"
   ]
  },
  {
   "cell_type": "code",
   "execution_count": 17,
   "metadata": {},
   "outputs": [],
   "source": [
    "final_list=pd.read_csv(\"../data/songs_sample.csv\")\n",
    "final_list.drop(\"Unnamed: 0\",axis=1,inplace=True)"
   ]
  },
  {
   "cell_type": "code",
   "execution_count": 18,
   "metadata": {},
   "outputs": [],
   "source": [
    "final_list[\"Cluster\"]= clusters"
   ]
  },
  {
   "cell_type": "code",
   "execution_count": 19,
   "metadata": {},
   "outputs": [
    {
     "data": {
      "text/html": [
       "<div>\n",
       "<style scoped>\n",
       "    .dataframe tbody tr th:only-of-type {\n",
       "        vertical-align: middle;\n",
       "    }\n",
       "\n",
       "    .dataframe tbody tr th {\n",
       "        vertical-align: top;\n",
       "    }\n",
       "\n",
       "    .dataframe thead th {\n",
       "        text-align: right;\n",
       "    }\n",
       "</style>\n",
       "<table border=\"1\" class=\"dataframe\">\n",
       "  <thead>\n",
       "    <tr style=\"text-align: right;\">\n",
       "      <th></th>\n",
       "      <th>Title</th>\n",
       "      <th>Artists</th>\n",
       "      <th>danceability</th>\n",
       "      <th>energy</th>\n",
       "      <th>loudness</th>\n",
       "      <th>speechiness</th>\n",
       "      <th>acousticness</th>\n",
       "      <th>instrumentalness</th>\n",
       "      <th>liveness</th>\n",
       "      <th>valence</th>\n",
       "      <th>tempo</th>\n",
       "      <th>duration_ms</th>\n",
       "      <th>Cluster</th>\n",
       "    </tr>\n",
       "  </thead>\n",
       "  <tbody>\n",
       "    <tr>\n",
       "      <th>0</th>\n",
       "      <td>Like a Rolling Stone</td>\n",
       "      <td>Bob Dylan</td>\n",
       "      <td>0.483</td>\n",
       "      <td>0.721</td>\n",
       "      <td>-6.836</td>\n",
       "      <td>0.0320</td>\n",
       "      <td>0.729000</td>\n",
       "      <td>0.000000</td>\n",
       "      <td>0.1890</td>\n",
       "      <td>0.562</td>\n",
       "      <td>95.261</td>\n",
       "      <td>369600</td>\n",
       "      <td>0</td>\n",
       "    </tr>\n",
       "    <tr>\n",
       "      <th>1</th>\n",
       "      <td>Smells Like Teen Spirit</td>\n",
       "      <td>Nirvana</td>\n",
       "      <td>0.485</td>\n",
       "      <td>0.863</td>\n",
       "      <td>-9.027</td>\n",
       "      <td>0.0495</td>\n",
       "      <td>0.000012</td>\n",
       "      <td>0.016200</td>\n",
       "      <td>0.1380</td>\n",
       "      <td>0.767</td>\n",
       "      <td>116.835</td>\n",
       "      <td>300977</td>\n",
       "      <td>0</td>\n",
       "    </tr>\n",
       "    <tr>\n",
       "      <th>2</th>\n",
       "      <td>A Day In The Life - Remastered</td>\n",
       "      <td>The Beatles</td>\n",
       "      <td>0.364</td>\n",
       "      <td>0.457</td>\n",
       "      <td>-14.162</td>\n",
       "      <td>0.0675</td>\n",
       "      <td>0.290000</td>\n",
       "      <td>0.000106</td>\n",
       "      <td>0.9220</td>\n",
       "      <td>0.175</td>\n",
       "      <td>163.219</td>\n",
       "      <td>337413</td>\n",
       "      <td>3</td>\n",
       "    </tr>\n",
       "    <tr>\n",
       "      <th>3</th>\n",
       "      <td>Good Vibrations (Mono)</td>\n",
       "      <td>The Beach Boys</td>\n",
       "      <td>0.398</td>\n",
       "      <td>0.413</td>\n",
       "      <td>-10.934</td>\n",
       "      <td>0.0388</td>\n",
       "      <td>0.082200</td>\n",
       "      <td>0.000025</td>\n",
       "      <td>0.0891</td>\n",
       "      <td>0.331</td>\n",
       "      <td>133.574</td>\n",
       "      <td>219147</td>\n",
       "      <td>2</td>\n",
       "    </tr>\n",
       "    <tr>\n",
       "      <th>4</th>\n",
       "      <td>(I Can't Get No) Satisfaction - Mono Version /...</td>\n",
       "      <td>The Rolling Stones</td>\n",
       "      <td>0.725</td>\n",
       "      <td>0.853</td>\n",
       "      <td>-7.842</td>\n",
       "      <td>0.0353</td>\n",
       "      <td>0.034800</td>\n",
       "      <td>0.127000</td>\n",
       "      <td>0.1960</td>\n",
       "      <td>0.904</td>\n",
       "      <td>136.282</td>\n",
       "      <td>222813</td>\n",
       "      <td>0</td>\n",
       "    </tr>\n",
       "  </tbody>\n",
       "</table>\n",
       "</div>"
      ],
      "text/plain": [
       "                                               Title             Artists  \\\n",
       "0                               Like a Rolling Stone           Bob Dylan   \n",
       "1                            Smells Like Teen Spirit             Nirvana   \n",
       "2                     A Day In The Life - Remastered         The Beatles   \n",
       "3                             Good Vibrations (Mono)      The Beach Boys   \n",
       "4  (I Can't Get No) Satisfaction - Mono Version /...  The Rolling Stones   \n",
       "\n",
       "   danceability  energy  loudness  speechiness  acousticness  \\\n",
       "0         0.483   0.721    -6.836       0.0320      0.729000   \n",
       "1         0.485   0.863    -9.027       0.0495      0.000012   \n",
       "2         0.364   0.457   -14.162       0.0675      0.290000   \n",
       "3         0.398   0.413   -10.934       0.0388      0.082200   \n",
       "4         0.725   0.853    -7.842       0.0353      0.034800   \n",
       "\n",
       "   instrumentalness  liveness  valence    tempo  duration_ms  Cluster  \n",
       "0          0.000000    0.1890    0.562   95.261       369600        0  \n",
       "1          0.016200    0.1380    0.767  116.835       300977        0  \n",
       "2          0.000106    0.9220    0.175  163.219       337413        3  \n",
       "3          0.000025    0.0891    0.331  133.574       219147        2  \n",
       "4          0.127000    0.1960    0.904  136.282       222813        0  "
      ]
     },
     "execution_count": 19,
     "metadata": {},
     "output_type": "execute_result"
    }
   ],
   "source": [
    "final_list.head()"
   ]
  },
  {
   "cell_type": "code",
   "execution_count": 20,
   "metadata": {},
   "outputs": [],
   "source": [
    "final_list.to_csv(\"../data/final_list.csv\")"
   ]
  },
  {
   "cell_type": "code",
   "execution_count": null,
   "metadata": {},
   "outputs": [],
   "source": []
  }
 ],
 "metadata": {
  "kernelspec": {
   "display_name": "Python 3",
   "language": "python",
   "name": "python3"
  },
  "language_info": {
   "codemirror_mode": {
    "name": "ipython",
    "version": 3
   },
   "file_extension": ".py",
   "mimetype": "text/x-python",
   "name": "python",
   "nbconvert_exporter": "python",
   "pygments_lexer": "ipython3",
   "version": "3.8.3"
  }
 },
 "nbformat": 4,
 "nbformat_minor": 4
}
